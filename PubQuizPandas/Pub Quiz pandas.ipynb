{
 "cells": [
  {
   "cell_type": "markdown",
   "metadata": {
    "deletable": true,
    "editable": true
   },
   "source": [
    "# Winning Pub Quizzes with $pandas$"
   ]
  },
  {
   "cell_type": "markdown",
   "metadata": {
    "deletable": true,
    "editable": true
   },
   "source": [
    "I was in my local pub quiz recently when as usual we were faced with the anagram speed round. The quiz-master DJ Paul reads out a collection of words with a clue to a mystery person's identity, and the first team to correctly shout out the answer wins a spot prize. It's often a box of Tunnock's Teacakes - so well worth the effort!"
   ]
  },
  {
   "cell_type": "markdown",
   "metadata": {
    "deletable": true,
    "editable": true
   },
   "source": [
    "We were told on this particular occassion that the jumbled letters 'OR ANAL MR BOND' (!) were an anagram of a famous actor. As the words are being read out the well-worn technique is to write them in a \"cloud\" on the page, and then try to decipher the correct name. This can often take some time, but on this night myself and a couple of other teams almost instantaneously shouted \"Orlando Bloom!\". One of the easiest anagrams we'd had, I thought. But I was wrong. It wasn't Orlando Bloom, and so we had to get to thinking again. It turned out that the correct name we were after was old-Godfather himself, Marlon Brando."
   ]
  },
  {
   "cell_type": "markdown",
   "metadata": {
    "deletable": true,
    "editable": true
   },
   "source": [
    "I had to double-check that Orlando Bloom didn't fit the original character set - that indeed, Orlando Bloom and Marlon Brando aren't anagrams of each other. They're close, but they're different. This got me to wondering whether there are any famous actors who's names are anagrams of each other, and to investigate this I took to Python."
   ]
  },
  {
   "cell_type": "markdown",
   "metadata": {
    "deletable": true,
    "editable": true
   },
   "source": [
    "The Internet Movie Database (or IMDb for short) is an encyclopedia of all things film and TV. On the page http://www.imdb.com/list/ls058011111/ I found a list of the \"Top 1000 Actors and Actresses\" created by user hagennelson. This forms the basis for the following research."
   ]
  },
  {
   "cell_type": "markdown",
   "metadata": {
    "deletable": true,
    "editable": true
   },
   "source": [
    "Since the list spreads over four pages we first need to download the elements and concatenate them into a single pandas data frame."
   ]
  },
  {
   "cell_type": "code",
   "execution_count": 1,
   "metadata": {
    "collapsed": true,
    "deletable": true,
    "editable": true
   },
   "outputs": [],
   "source": [
    "import pandas as pd\n",
    "\n",
    "frame_list = []\n",
    "\n",
    "for start in [1, 251, 501, 751]:\n",
    "    URL = \"http://www.imdb.com/list/ls058011111/?start=\" + str(start) + \"&view=compact&sort=listorian:asc\"\n",
    "    dfs = pd.read_html(URL, match=\"Name\", header=0, index_col=0)\n",
    "    frame_list.append(dfs[0])\n",
    "    \n",
    "df = pd.concat(frame_list)\n",
    "df.index = df.index.astype(int)"
   ]
  },
  {
   "cell_type": "markdown",
   "metadata": {
    "deletable": true,
    "editable": true
   },
   "source": [
    "The next task is to create a new column containing the alphabetically sorted characters of the actors' names:"
   ]
  },
  {
   "cell_type": "code",
   "execution_count": 2,
   "metadata": {
    "collapsed": false,
    "deletable": true,
    "editable": true
   },
   "outputs": [],
   "source": [
    "df['Chars'] = df['Name'].apply(lambda x: ''.join(sorted(x.lower().strip().replace(\" \", \"\"))))"
   ]
  },
  {
   "cell_type": "markdown",
   "metadata": {},
   "source": [
    "We can see the effect of this in the top five rows of the data frame."
   ]
  },
  {
   "cell_type": "code",
   "execution_count": 3,
   "metadata": {
    "collapsed": false,
    "deletable": true,
    "editable": true
   },
   "outputs": [
    {
     "data": {
      "text/html": [
       "<div>\n",
       "<table border=\"1\" class=\"dataframe\">\n",
       "  <thead>\n",
       "    <tr style=\"text-align: right;\">\n",
       "      <th></th>\n",
       "      <th>Name</th>\n",
       "      <th>Known For</th>\n",
       "      <th>Birth Date</th>\n",
       "      <th>Date</th>\n",
       "      <th>Chars</th>\n",
       "    </tr>\n",
       "    <tr>\n",
       "      <th>#</th>\n",
       "      <th></th>\n",
       "      <th></th>\n",
       "      <th></th>\n",
       "      <th></th>\n",
       "      <th></th>\n",
       "    </tr>\n",
       "  </thead>\n",
       "  <tbody>\n",
       "    <tr>\n",
       "      <th>1</th>\n",
       "      <td>Robert De Niro</td>\n",
       "      <td>Actor, Goodfellas</td>\n",
       "      <td>17 August 1943</td>\n",
       "      <td>09 Mar 2014</td>\n",
       "      <td>bdeeinoorrrt</td>\n",
       "    </tr>\n",
       "    <tr>\n",
       "      <th>2</th>\n",
       "      <td>Jack Nicholson</td>\n",
       "      <td>Actor, The Shining</td>\n",
       "      <td>22 April 1937</td>\n",
       "      <td>09 Mar 2014</td>\n",
       "      <td>acchijklnnoos</td>\n",
       "    </tr>\n",
       "    <tr>\n",
       "      <th>3</th>\n",
       "      <td>Tom Hanks</td>\n",
       "      <td>Actor, The Da Vinci Code</td>\n",
       "      <td>9 July 1956</td>\n",
       "      <td>09 Mar 2014</td>\n",
       "      <td>ahkmnost</td>\n",
       "    </tr>\n",
       "    <tr>\n",
       "      <th>4</th>\n",
       "      <td>Marlon Brando</td>\n",
       "      <td>Actor, The Godfather</td>\n",
       "      <td>3 April 1924</td>\n",
       "      <td>09 Mar 2014</td>\n",
       "      <td>aabdlmnnoorr</td>\n",
       "    </tr>\n",
       "    <tr>\n",
       "      <th>5</th>\n",
       "      <td>Leonardo DiCaprio</td>\n",
       "      <td>Actor, Inception</td>\n",
       "      <td>11 November 1974</td>\n",
       "      <td>09 Mar 2014</td>\n",
       "      <td>aacddeiilnoooprr</td>\n",
       "    </tr>\n",
       "  </tbody>\n",
       "</table>\n",
       "</div>"
      ],
      "text/plain": [
       "                Name                 Known For        Birth Date         Date  \\\n",
       "#                                                                               \n",
       "1     Robert De Niro         Actor, Goodfellas    17 August 1943  09 Mar 2014   \n",
       "2     Jack Nicholson        Actor, The Shining     22 April 1937  09 Mar 2014   \n",
       "3          Tom Hanks  Actor, The Da Vinci Code       9 July 1956  09 Mar 2014   \n",
       "4      Marlon Brando      Actor, The Godfather      3 April 1924  09 Mar 2014   \n",
       "5  Leonardo DiCaprio          Actor, Inception  11 November 1974  09 Mar 2014   \n",
       "\n",
       "              Chars  \n",
       "#                    \n",
       "1      bdeeinoorrrt  \n",
       "2     acchijklnnoos  \n",
       "3          ahkmnost  \n",
       "4      aabdlmnnoorr  \n",
       "5  aacddeiilnoooprr  "
      ]
     },
     "execution_count": 3,
     "metadata": {},
     "output_type": "execute_result"
    }
   ],
   "source": [
    "df.head()"
   ]
  },
  {
   "cell_type": "markdown",
   "metadata": {
    "deletable": true,
    "editable": true
   },
   "source": [
    "One quick way to check for anagrams now is just to look for duplicates in the Chars column. If we have 1000 unique character strings then we know that we have no anagrams at all. In fact it turns out that we have only 997 unique character strings, so it looks like we have three pairs of anagrams."
   ]
  },
  {
   "cell_type": "code",
   "execution_count": 4,
   "metadata": {
    "collapsed": false,
    "deletable": true,
    "editable": true
   },
   "outputs": [
    {
     "name": "stdout",
     "output_type": "stream",
     "text": [
      "997\n",
      "              Name         Chars\n",
      "#                               \n",
      "292  Neve Campbell  abceeellmnpv\n",
      "846  Neve Campbell  abceeellmnpv\n",
      "              Name         Chars\n",
      "#                               \n",
      "773  Paul Scofield  acdefillopsu\n",
      "949  Paul Scofield  acdefillopsu\n",
      "               Name          Chars\n",
      "#                                 \n",
      "708  Patrick Wilson  aciiklnoprstw\n",
      "954  Patrick Wilson  aciiklnoprstw\n"
     ]
    }
   ],
   "source": [
    "print len(df['Chars'].unique())\n",
    "\n",
    "df_duplicates = df[df.duplicated(subset='Chars')][['Name', 'Chars']]\n",
    "for x in df_duplicates['Chars']:\n",
    "    print df[df['Chars']==x][['Name', 'Chars', 'Birth Date']]"
   ]
  },
  {
   "cell_type": "markdown",
   "metadata": {
    "deletable": true,
    "editable": true
   },
   "source": [
    "Unfortunately what we actually find above is that three of the actors appear erroneously on the list twice each! The actual list of 997 actors do not contain any self-anagrams whatsoever."
   ]
  },
  {
   "cell_type": "markdown",
   "metadata": {
    "deletable": true,
    "editable": true
   },
   "source": [
    "Given that we weren't able to find anagrams, and that the downloaded list contains the actors birthdates, I thought it would be fun to see whether any of the famous thespians share the same date of birth. This turns out to be far more fruitful."
   ]
  },
  {
   "cell_type": "markdown",
   "metadata": {
    "deletable": true,
    "editable": true
   },
   "source": [
    "First we need to rid ourselves of the duplicated actors discovered above."
   ]
  },
  {
   "cell_type": "code",
   "execution_count": 5,
   "metadata": {
    "collapsed": true,
    "deletable": true,
    "editable": true
   },
   "outputs": [],
   "source": [
    "df = df.drop_duplicates(subset='Name')"
   ]
  },
  {
   "cell_type": "markdown",
   "metadata": {
    "deletable": true,
    "editable": true
   },
   "source": [
    "Similar to above we now wish to find out which, if any, birth dates are duplicated within our dataframe."
   ]
  },
  {
   "cell_type": "code",
   "execution_count": 6,
   "metadata": {
    "collapsed": false,
    "deletable": true,
    "editable": true
   },
   "outputs": [
    {
     "name": "stdout",
     "output_type": "stream",
     "text": [
      "195,Julianne Moore,3 December 1960\n",
      "199,Daryl Hannah,3 December 1960\n",
      "\n",
      "238,Lena Headey,3 October 1973\n",
      "292,Neve Campbell,3 October 1973\n",
      "\n",
      "397,Anna Paquin,24 July 1982\n",
      "493,Elisabeth Moss,24 July 1982\n",
      "\n",
      "145,Glenda Jackson,9 May 1936\n",
      "571,Albert Finney,9 May 1936\n",
      "\n",
      "494,Adrianne Palicki,6 May 1983\n",
      "587,Gabourey Sidibe,6 May 1983\n",
      "\n",
      "523,Tom Wilkinson,5 February 1948\n",
      "668,Christopher Guest,5 February 1948\n",
      "\n",
      "248,Gillian Anderson,9 August 1968\n",
      "673,Eric Bana,9 August 1968\n",
      "\n",
      "379,Ellen Page,21 February 1987\n",
      "779,Ashley Greene,21 February 1987\n",
      "\n",
      "786,Thandie Newton,6 November 1972\n",
      "827,Rebecca Romijn,6 November 1972\n",
      "\n",
      "747,Keri Russell,23 March 1976\n",
      "836,Michelle Monaghan,23 March 1976\n",
      "\n",
      "753,Djimon Hounsou,24 April 1964\n",
      "871,Cedric the Entertainer,24 April 1964\n",
      "\n",
      "77,Angelina Jolie,4 June 1975\n",
      "920,Russell Brand,4 June 1975\n",
      "\n",
      "629,Catalina Sandino Moreno,19 April 1981\n",
      "932,Hayden Christensen,19 April 1981\n",
      "\n",
      "425,Chris Pine,26 August 1980\n",
      "946,Macaulay Culkin,26 August 1980\n",
      "\n",
      "913,Justin Bartha,21 July 1978\n",
      "953,Josh Hartnett,21 July 1978\n",
      "\n",
      "828,Michelle Rodriguez,12 July 1978\n",
      "964,Topher Grace,12 July 1978\n",
      "\n",
      "858,John Leguizamo,22 July 1964\n",
      "970,David Spade,22 July 1964\n",
      "\n"
     ]
    }
   ],
   "source": [
    "df_duplicates = df[df.duplicated(subset='Birth Date')][['Name', 'Birth Date']]\n",
    "\n",
    "for bd in df_duplicates['Birth Date']:\n",
    "    print df[df['Birth Date']==bd][['Name', 'Birth Date']].to_csv(header=False)"
   ]
  },
  {
   "cell_type": "markdown",
   "metadata": {
    "deletable": true,
    "editable": true
   },
   "source": [
    "And above we get a set of 17 pairs of actors from our original list who were born on exactly the same day. To pick out just three pairs we have:"
   ]
  },
  {
   "cell_type": "markdown",
   "metadata": {
    "deletable": true,
    "editable": true
   },
   "source": [
    "3 December 1960: Julianne Moore and Daryl Hannah."
   ]
  },
  {
   "cell_type": "markdown",
   "metadata": {
    "collapsed": true,
    "deletable": true,
    "editable": true
   },
   "source": [
    "<img src=\"Julianne_Daryl.jpg\" alt=\"Drawing\" style=\"width: 400px;\">"
   ]
  },
  {
   "cell_type": "markdown",
   "metadata": {
    "deletable": true,
    "editable": true
   },
   "source": [
    "21 February 1987: Ellen Page and Ashley Greene."
   ]
  },
  {
   "cell_type": "markdown",
   "metadata": {
    "deletable": true,
    "editable": true
   },
   "source": [
    "<img src=\"Ellen_Ashley.jpg\" alt=\"Drawing\" style=\"width: 400px;\">"
   ]
  },
  {
   "cell_type": "markdown",
   "metadata": {
    "deletable": true,
    "editable": true
   },
   "source": [
    "But my favourite pair of acting \"twins\" has to be:"
   ]
  },
  {
   "cell_type": "markdown",
   "metadata": {
    "deletable": true,
    "editable": true
   },
   "source": [
    "4 June 1975: Angelina Jolie and Russell Brand"
   ]
  },
  {
   "cell_type": "markdown",
   "metadata": {
    "deletable": true,
    "editable": true
   },
   "source": [
    "<img src=\"Angelina_Russell.jpg\" alt=\"Drawing\" style=\"width: 400px;\">"
   ]
  },
  {
   "cell_type": "markdown",
   "metadata": {
    "deletable": true,
    "editable": true
   },
   "source": [
    "You just never know - this could all come in useful at a pub quiz one day!"
   ]
  }
 ],
 "metadata": {
  "kernelspec": {
   "display_name": "Python 2",
   "language": "python",
   "name": "python2"
  },
  "language_info": {
   "codemirror_mode": {
    "name": "ipython",
    "version": 2
   },
   "file_extension": ".py",
   "mimetype": "text/x-python",
   "name": "python",
   "nbconvert_exporter": "python",
   "pygments_lexer": "ipython2",
   "version": "2.7.11"
  }
 },
 "nbformat": 4,
 "nbformat_minor": 2
}
